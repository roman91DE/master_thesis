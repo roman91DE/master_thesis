{
 "cells": [
  {
   "cell_type": "code",
   "execution_count": 4,
   "metadata": {},
   "outputs": [
    {
     "name": "stdout",
     "output_type": "stream",
     "text": [
      "{'DAE-GP (train)': [36.83771112656919, 31.10916177920143, 35.147984653098305, 33.437312233008285, 34.15691094016683, 33.65311978400108, 31.356223231323707, 34.91957699880682, 31.692898107169444, 31.36334580321489], 'DAE-GP (test)': [37.79444788286733, 31.106840962349654, 36.92233469140094, 34.06688162195417, 33.98869889094127, 34.29915733045195, 30.815881145717658, 36.24092801978986, 31.214885087853073, 30.821212441871392], 'Pre-Trained (train)': [34.90011348016071, 35.05659156617022, 35.953161141389366, 35.16563146370347, 34.87093717918968, 34.90011348016071, 35.05659156617022, 35.953161141389366, 36.03202659561283, 35.565338469050296], 'Pre-Trained (test)': [34.8110653106905, 36.011552492299714, 35.80992970050751, 35.2057380135085, 36.19913223227431, 34.8110653106905, 36.011552492299714, 35.80992970050751, 35.931781316891225, 35.51804013433234]}\n"
     ]
    }
   ],
   "source": [
    "import json\n",
    "from scipy.stats import mannwhitneyu as mwu\n",
    "from statistics import median\n",
    "from os.path import join\n",
    "\n",
    "RESULTS = {\n",
    "    \"airfoil_1hl\" : \"/Users/rmn/github/master_thesis/data/airfoil_1hl_maxIndSize_fullRun_30gens\",\n",
    "    \"airfoil_2hl\" : \"/Users/rmn/github/master_thesis/data/airfoil_2hl_maxIndSize_fullRun_30gens\",\n",
    "    \"bostonHousing\": \"/Users/rmn/github/master_thesis/data/bostonHousing_2hl_maxIndSize_fullRun_30gens\",\n",
    "    \"energyCooling\": \"/Users/rmn/github/master_thesis/data/energyCooling_2hl_FullRun_30gens\"\n",
    "}\n",
    "\n",
    "FILENAME=\"best_final_fitness.json\"\n",
    "\n",
    "\n",
    "csv_string = \"Problem?Set?Median_RMSE?P_Value?Significance\\n\"\n",
    "\n",
    "for problem,path in RESULTS.items():\n",
    "    d = json.load(open(join(path, FILENAME),\"r\",encoding=\"utf-8\"))\n",
    "    csv_string += f\"{problem}?DAE-GP?Train?{mwu(d['DAE-GP(train)'][])}\"\n"
   ]
  }
 ],
 "metadata": {
  "kernelspec": {
   "display_name": "dataScience",
   "language": "python",
   "name": "python3"
  },
  "language_info": {
   "codemirror_mode": {
    "name": "ipython",
    "version": 3
   },
   "file_extension": ".py",
   "mimetype": "text/x-python",
   "name": "python",
   "nbconvert_exporter": "python",
   "pygments_lexer": "ipython3",
   "version": "3.10.8"
  },
  "orig_nbformat": 4,
  "vscode": {
   "interpreter": {
    "hash": "dbb2add7e11237ef8ea893d5e3d17e6ead7966177d4863ded6c240cf572d143e"
   }
  }
 },
 "nbformat": 4,
 "nbformat_minor": 2
}
