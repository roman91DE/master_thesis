{
 "cells": [
  {
   "cell_type": "code",
   "execution_count": 12,
   "metadata": {},
   "outputs": [
    {
     "name": "stdout",
     "output_type": "stream",
     "text": [
      "0.017131826740080364\n",
      "0.14001726508799317\n",
      "0.30730753272470834\n",
      "0.570605503511469\n",
      "0.6047817136608757\n",
      "0.7958140661441787\n",
      "0.018795060662434297\n",
      "0.2886460175593255\n"
     ]
    }
   ],
   "source": [
    "import json\n",
    "from scipy.stats import mannwhitneyu as mwu\n",
    "from statistics import median\n",
    "from os.path import join\n",
    "\n",
    "RESULTS = {\n",
    "    \"airfoil_1hl\" : \"/Users/rmn/github/master_thesis/data/airfoil_1hl_maxIndSize_fullRun_30gens\",\n",
    "    \"airfoil_2hl\" : \"/Users/rmn/github/master_thesis/data/airfoil_2hl_maxIndSize_fullRun_30gens\",\n",
    "    \"bostonHousing\": \"/Users/rmn/github/master_thesis/data/bostonHousing_2hl_maxIndSize_fullRun_30gens\",\n",
    "    \"energyCooling\": \"/Users/rmn/github/master_thesis/data/energyCooling_2hl_FullRun_30gens\"\n",
    "}\n",
    "\n",
    "FILENAME=\"best_final_fitness.json\"\n",
    "\n",
    "def getPVal(sampleA, sampleB):\n",
    "    stats, pval = mwu(sampleA, sampleB)\n",
    "    print(pval)\n",
    "    if pval <= 0.01:\n",
    "        return f\"{pval:.4f}***\"\n",
    "    elif pval <= 0.05:\n",
    "        return f\"{pval:.4f}**\"\n",
    "    elif pval <= 0.1:\n",
    "        return f\"{pval:.4f}*\"\n",
    "    else:\n",
    "        return f\"{pval:.4f}\"\n",
    "\n",
    "\n",
    "csv_string = \"Problem,Hidden_Layer,Dataset,DAE-GP,Pre-Trained_DAE-GP,P_Value\\n\"\n",
    "\n",
    "for problem,path in RESULTS.items():\n",
    "    d = json.load(open(join(path, FILENAME),\"r\",encoding=\"utf-8\"))\n",
    "\n",
    "    reg_med_train = median(d[\"DAE-GP (train)\"])\n",
    "    pt_med_train = median(d[\"Pre-Trained (train)\"])\n",
    "    reg_med_test = median(d[\"DAE-GP (test)\"])\n",
    "    pt_med_test = median(d[\"Pre-Trained (test)\"])\n",
    "\n",
    "    assert d[\"DAE-GP (train)\"] != d[\"Pre-Trained (train)\"]\n",
    "    assert d[\"DAE-GP (test)\"] != d[\"Pre-Trained (test)\"]\n",
    "\n",
    "\n",
    "    csv_string += f\"{d['problem']},{d['hiddenLayer']},Train,{reg_med_train},{pt_med_train},{getPVal(d['DAE-GP (train)'], d['Pre-Trained (train)'])}\\n,{d['hiddenLayer']},Test,{reg_med_test},{pt_med_test},{getPVal(d['DAE-GP (test)'], d['Pre-Trained (test)'])}\\n\"\n",
    "\n",
    "\n",
    "with open(\"/Users/rmn/github/master_thesis/data/summary_table_final_fit.csv\", \"w\", encoding=\"utf-8\") as f:\n",
    "    f.write(csv_string)"
   ]
  },
  {
   "cell_type": "code",
   "execution_count": null,
   "metadata": {},
   "outputs": [],
   "source": []
  }
 ],
 "metadata": {
  "kernelspec": {
   "display_name": "dataScience",
   "language": "python",
   "name": "python3"
  },
  "language_info": {
   "codemirror_mode": {
    "name": "ipython",
    "version": 3
   },
   "file_extension": ".py",
   "mimetype": "text/x-python",
   "name": "python",
   "nbconvert_exporter": "python",
   "pygments_lexer": "ipython3",
   "version": "3.10.8"
  },
  "orig_nbformat": 4,
  "vscode": {
   "interpreter": {
    "hash": "dbb2add7e11237ef8ea893d5e3d17e6ead7966177d4863ded6c240cf572d143e"
   }
  }
 },
 "nbformat": 4,
 "nbformat_minor": 2
}
