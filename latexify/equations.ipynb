{
 "cells": [
  {
   "cell_type": "code",
   "execution_count": 15,
   "metadata": {},
   "outputs": [
    {
     "name": "stdout",
     "output_type": "stream",
     "text": [
      "Latexify Version = 0.2.0\n"
     ]
    }
   ],
   "source": [
    "import math\n",
    "from typing import Callable, TextIO\n",
    "\n",
    "import latexify\n",
    "\n",
    "print(\"Latexify Version =\", latexify.__version__)"
   ]
  },
  {
   "cell_type": "code",
   "execution_count": 29,
   "metadata": {},
   "outputs": [],
   "source": [
    "# open the output file stream\n",
    "output = open(\"./equations.md\", \"a\", encoding=\"utf-8\")"
   ]
  },
  {
   "cell_type": "code",
   "execution_count": 30,
   "metadata": {},
   "outputs": [],
   "source": [
    "def write_to_file(func: Callable, desciption: str, file: TextIO=output):\n",
    "    lfunc = latexify.function(func)\n",
    "    print(\n",
    "        f\"## {desciption}:\\n{lfunc}\\n\",\n",
    "        file=file\n",
    "    )\n",
    "    return lfunc\n"
   ]
  },
  {
   "cell_type": "markdown",
   "metadata": {},
   "source": [
    "{\\displaystyle \\operatorname {MSE} ={\\frac {1}{n}}\\sum _{i=1}^{n}\\left(Y_{i}-{\\hat {Y_{i}}}\\right)^{2}.}"
   ]
  },
  {
   "cell_type": "code",
   "execution_count": 49,
   "metadata": {},
   "outputs": [],
   "source": [
    "def MSE(n, Y, Y_hat):\n",
    "    return (1/n) * [(a-b)**2 for (a,b) in (Y, Y_hat)]"
   ]
  },
  {
   "cell_type": "code",
   "execution_count": 50,
   "metadata": {},
   "outputs": [
    {
     "data": {
      "text/latex": [
       "$$ \\displaystyle \\mathrm{MSE}(n, Y, Y_hat) = \\frac{{1}}{n} \\left[ \\left( a - b \\right)^{{2}} \\mid \\left( a\\space,\\space b\\right)  \\in \\left( Y\\space,\\space Y_hat\\right)  \\right] $$"
      ],
      "text/plain": [
       "<latexify.frontend.LatexifiedFunction at 0x1088ead00>"
      ]
     },
     "execution_count": 50,
     "metadata": {},
     "output_type": "execute_result"
    }
   ],
   "source": [
    "write_to_file(MSE, \"Mean Squarred Error\")"
   ]
  },
  {
   "cell_type": "code",
   "execution_count": 43,
   "metadata": {},
   "outputs": [
    {
     "data": {
      "text/plain": [
       "3"
      ]
     },
     "execution_count": 43,
     "metadata": {},
     "output_type": "execute_result"
    }
   ],
   "source": [
    "sum([1,2])"
   ]
  }
 ],
 "metadata": {
  "kernelspec": {
   "display_name": "Python 3.11.0 ('latexEnv')",
   "language": "python",
   "name": "python3"
  },
  "language_info": {
   "codemirror_mode": {
    "name": "ipython",
    "version": 3
   },
   "file_extension": ".py",
   "mimetype": "text/x-python",
   "name": "python",
   "nbconvert_exporter": "python",
   "pygments_lexer": "ipython3",
   "version": "3.8.13"
  },
  "orig_nbformat": 4,
  "vscode": {
   "interpreter": {
    "hash": "4d0429da9d928fe70b07177f3d0b13875872d2dfc63d1968fd924722b3381802"
   }
  }
 },
 "nbformat": 4,
 "nbformat_minor": 2
}
