{
 "cells": [
  {
   "cell_type": "code",
   "execution_count": 3,
   "metadata": {},
   "outputs": [],
   "source": [
    "import datetime"
   ]
  },
  {
   "cell_type": "code",
   "execution_count": 19,
   "metadata": {},
   "outputs": [
    {
     "name": "stdout",
     "output_type": "stream",
     "text": [
      "Anmeldetermin: 03/10/2022\n",
      "Abgabetermin:  31/01/2023\n"
     ]
    }
   ],
   "source": [
    "ABGABETERMIN = datetime.datetime(2023, 1, 31)\n",
    "BEARBEITUNGSDAUER = datetime.timedelta(days=(4*30))\n",
    "anmeldetermin = ABGABETERMIN - BEARBEITUNGSDAUER\n",
    "\n",
    "print(f'Anmeldetermin: {anmeldetermin.strftime(\"%d/%m/%Y\")}')\n",
    "print(f'Abgabetermin:  {ABGABETERMIN.strftime(\"%d/%m/%Y\")}')"
   ]
  }
 ],
 "metadata": {
  "kernelspec": {
   "display_name": "Python 3.10.6 64-bit",
   "language": "python",
   "name": "python3"
  },
  "language_info": {
   "codemirror_mode": {
    "name": "ipython",
    "version": 3
   },
   "file_extension": ".py",
   "mimetype": "text/x-python",
   "name": "python",
   "nbconvert_exporter": "python",
   "pygments_lexer": "ipython3",
   "version": "3.10.8"
  },
  "orig_nbformat": 4,
  "vscode": {
   "interpreter": {
    "hash": "a0a5145e6c304e2a9afaf5b930a2955b950bd4b81fe94f7c42930f43f42762eb"
   }
  }
 },
 "nbformat": 4,
 "nbformat_minor": 2
}
